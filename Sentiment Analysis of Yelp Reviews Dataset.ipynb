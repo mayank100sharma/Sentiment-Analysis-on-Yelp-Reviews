{
 "cells": [
  {
   "cell_type": "markdown",
   "metadata": {},
   "source": [
    "# Sentiment Analysis of Yelp Reviews Dataset\n",
    "\n",
    "### Dataset Description:\n",
    "The Dataset contains 10,000 Yelp reviews from the customer. The following are the dataset attributes:\n",
    "1. business_id (ID for different business reviews)\n",
    "2. date (review posting date)\n",
    "3. review_id (ID for each review)\n",
    "4. stars (rating of business in 1-5 range)\n",
    "5. text (text of each review)\n",
    "6. type (type of text)\n",
    "7. used_id (ID of the user)\n",
    "8. cool/useful/funny (comments of reviews)\n",
    "\n",
    "### Purpose of analysis:\n",
    "The purpose of this analysis is to apply sentiment analysis technique on the Yelp review dataset from the customers and predict whether the review is negative or positive. To do this task, we will be performing three predictive Machine Learning algorithm to build model. In the conclusion, we will identifying which model is best for sentiment reviews.\n",
    "\n",
    "*** This dataset has been taken from Kaggle. You can find the dataset in the following link:\n",
    "    https://www.kaggle.com/omkarsabnis/sentiment-analysis-on-the-yelp-reviews-dataset/data   ***\n",
    "    \n",
    "The following steps will be followed for the analysis:\n",
    "1. Importing the Dataset\n",
    "2. Processing the dataset\n",
    "3. Vectorization\n",
    "4. Splitting into Train and Test models\n",
    "5. Applying classification method\n",
    "6. Conclusion\n"
   ]
  },
  {
   "cell_type": "markdown",
   "metadata": {},
   "source": [
    "### Importing important libraries and uploading dataset"
   ]
  },
  {
   "cell_type": "code",
   "execution_count": 1,
   "metadata": {},
   "outputs": [],
   "source": [
    "import numpy as np\n",
    "import pandas as pd\n",
    "import matplotlib.pyplot as plt\n",
    "import seaborn as sns\n",
    "\n",
    "# Importing NLTK library for using stop words method\n",
    "import nltk\n",
    "from nltk.corpus import stopwords\n",
    "\n",
    "from sklearn.feature_extraction.text import CountVectorizer\n",
    "%matplotlib inline"
   ]
  },
  {
   "cell_type": "code",
   "execution_count": 2,
   "metadata": {},
   "outputs": [
    {
     "data": {
      "text/html": [
       "<div>\n",
       "<style scoped>\n",
       "    .dataframe tbody tr th:only-of-type {\n",
       "        vertical-align: middle;\n",
       "    }\n",
       "\n",
       "    .dataframe tbody tr th {\n",
       "        vertical-align: top;\n",
       "    }\n",
       "\n",
       "    .dataframe thead th {\n",
       "        text-align: right;\n",
       "    }\n",
       "</style>\n",
       "<table border=\"1\" class=\"dataframe\">\n",
       "  <thead>\n",
       "    <tr style=\"text-align: right;\">\n",
       "      <th></th>\n",
       "      <th>business_id</th>\n",
       "      <th>date</th>\n",
       "      <th>review_id</th>\n",
       "      <th>stars</th>\n",
       "      <th>text</th>\n",
       "      <th>type</th>\n",
       "      <th>user_id</th>\n",
       "      <th>cool</th>\n",
       "      <th>useful</th>\n",
       "      <th>funny</th>\n",
       "    </tr>\n",
       "  </thead>\n",
       "  <tbody>\n",
       "    <tr>\n",
       "      <th>0</th>\n",
       "      <td>9yKzy9PApeiPPOUJEtnvkg</td>\n",
       "      <td>2011-01-26</td>\n",
       "      <td>fWKvX83p0-ka4JS3dc6E5A</td>\n",
       "      <td>5</td>\n",
       "      <td>My wife took me here on my birthday for breakf...</td>\n",
       "      <td>review</td>\n",
       "      <td>rLtl8ZkDX5vH5nAx9C3q5Q</td>\n",
       "      <td>2</td>\n",
       "      <td>5</td>\n",
       "      <td>0</td>\n",
       "    </tr>\n",
       "    <tr>\n",
       "      <th>1</th>\n",
       "      <td>ZRJwVLyzEJq1VAihDhYiow</td>\n",
       "      <td>2011-07-27</td>\n",
       "      <td>IjZ33sJrzXqU-0X6U8NwyA</td>\n",
       "      <td>5</td>\n",
       "      <td>I have no idea why some people give bad review...</td>\n",
       "      <td>review</td>\n",
       "      <td>0a2KyEL0d3Yb1V6aivbIuQ</td>\n",
       "      <td>0</td>\n",
       "      <td>0</td>\n",
       "      <td>0</td>\n",
       "    </tr>\n",
       "    <tr>\n",
       "      <th>2</th>\n",
       "      <td>6oRAC4uyJCsJl1X0WZpVSA</td>\n",
       "      <td>2012-06-14</td>\n",
       "      <td>IESLBzqUCLdSzSqm0eCSxQ</td>\n",
       "      <td>4</td>\n",
       "      <td>love the gyro plate. Rice is so good and I als...</td>\n",
       "      <td>review</td>\n",
       "      <td>0hT2KtfLiobPvh6cDC8JQg</td>\n",
       "      <td>0</td>\n",
       "      <td>1</td>\n",
       "      <td>0</td>\n",
       "    </tr>\n",
       "    <tr>\n",
       "      <th>3</th>\n",
       "      <td>_1QQZuf4zZOyFCvXc0o6Vg</td>\n",
       "      <td>2010-05-27</td>\n",
       "      <td>G-WvGaISbqqaMHlNnByodA</td>\n",
       "      <td>5</td>\n",
       "      <td>Rosie, Dakota, and I LOVE Chaparral Dog Park!!...</td>\n",
       "      <td>review</td>\n",
       "      <td>uZetl9T0NcROGOyFfughhg</td>\n",
       "      <td>1</td>\n",
       "      <td>2</td>\n",
       "      <td>0</td>\n",
       "    </tr>\n",
       "    <tr>\n",
       "      <th>4</th>\n",
       "      <td>6ozycU1RpktNG2-1BroVtw</td>\n",
       "      <td>2012-01-05</td>\n",
       "      <td>1uJFq2r5QfJG_6ExMRCaGw</td>\n",
       "      <td>5</td>\n",
       "      <td>General Manager Scott Petello is a good egg!!!...</td>\n",
       "      <td>review</td>\n",
       "      <td>vYmM4KTsC8ZfQBg-j5MWkw</td>\n",
       "      <td>0</td>\n",
       "      <td>0</td>\n",
       "      <td>0</td>\n",
       "    </tr>\n",
       "  </tbody>\n",
       "</table>\n",
       "</div>"
      ],
      "text/plain": [
       "              business_id        date               review_id  stars  \\\n",
       "0  9yKzy9PApeiPPOUJEtnvkg  2011-01-26  fWKvX83p0-ka4JS3dc6E5A      5   \n",
       "1  ZRJwVLyzEJq1VAihDhYiow  2011-07-27  IjZ33sJrzXqU-0X6U8NwyA      5   \n",
       "2  6oRAC4uyJCsJl1X0WZpVSA  2012-06-14  IESLBzqUCLdSzSqm0eCSxQ      4   \n",
       "3  _1QQZuf4zZOyFCvXc0o6Vg  2010-05-27  G-WvGaISbqqaMHlNnByodA      5   \n",
       "4  6ozycU1RpktNG2-1BroVtw  2012-01-05  1uJFq2r5QfJG_6ExMRCaGw      5   \n",
       "\n",
       "                                                text    type  \\\n",
       "0  My wife took me here on my birthday for breakf...  review   \n",
       "1  I have no idea why some people give bad review...  review   \n",
       "2  love the gyro plate. Rice is so good and I als...  review   \n",
       "3  Rosie, Dakota, and I LOVE Chaparral Dog Park!!...  review   \n",
       "4  General Manager Scott Petello is a good egg!!!...  review   \n",
       "\n",
       "                  user_id  cool  useful  funny  \n",
       "0  rLtl8ZkDX5vH5nAx9C3q5Q     2       5      0  \n",
       "1  0a2KyEL0d3Yb1V6aivbIuQ     0       0      0  \n",
       "2  0hT2KtfLiobPvh6cDC8JQg     0       1      0  \n",
       "3  uZetl9T0NcROGOyFfughhg     1       2      0  \n",
       "4  vYmM4KTsC8ZfQBg-j5MWkw     0       0      0  "
      ]
     },
     "execution_count": 2,
     "metadata": {},
     "output_type": "execute_result"
    }
   ],
   "source": [
    "df = pd.read_csv('E:/Mayank(D)/Northeastern University/quater 4/Python for Data science/yelp.csv')\n",
    "df.head()"
   ]
  },
  {
   "cell_type": "code",
   "execution_count": 3,
   "metadata": {},
   "outputs": [
    {
     "name": "stdout",
     "output_type": "stream",
     "text": [
      "(10000, 10)\n"
     ]
    }
   ],
   "source": [
    "print(df.shape)"
   ]
  },
  {
   "cell_type": "code",
   "execution_count": 4,
   "metadata": {},
   "outputs": [
    {
     "name": "stdout",
     "output_type": "stream",
     "text": [
      "<class 'pandas.core.frame.DataFrame'>\n",
      "RangeIndex: 10000 entries, 0 to 9999\n",
      "Data columns (total 10 columns):\n",
      "business_id    10000 non-null object\n",
      "date           10000 non-null object\n",
      "review_id      10000 non-null object\n",
      "stars          10000 non-null int64\n",
      "text           10000 non-null object\n",
      "type           10000 non-null object\n",
      "user_id        10000 non-null object\n",
      "cool           10000 non-null int64\n",
      "useful         10000 non-null int64\n",
      "funny          10000 non-null int64\n",
      "dtypes: int64(4), object(6)\n",
      "memory usage: 781.3+ KB\n",
      "None\n"
     ]
    }
   ],
   "source": [
    "print(df.info())"
   ]
  },
  {
   "cell_type": "code",
   "execution_count": 5,
   "metadata": {},
   "outputs": [
    {
     "name": "stdout",
     "output_type": "stream",
     "text": [
      "<bound method NDFrame.describe of                  business_id        date               review_id  stars  \\\n",
      "0     9yKzy9PApeiPPOUJEtnvkg  2011-01-26  fWKvX83p0-ka4JS3dc6E5A      5   \n",
      "1     ZRJwVLyzEJq1VAihDhYiow  2011-07-27  IjZ33sJrzXqU-0X6U8NwyA      5   \n",
      "2     6oRAC4uyJCsJl1X0WZpVSA  2012-06-14  IESLBzqUCLdSzSqm0eCSxQ      4   \n",
      "3     _1QQZuf4zZOyFCvXc0o6Vg  2010-05-27  G-WvGaISbqqaMHlNnByodA      5   \n",
      "4     6ozycU1RpktNG2-1BroVtw  2012-01-05  1uJFq2r5QfJG_6ExMRCaGw      5   \n",
      "5     -yxfBYGB6SEqszmxJxd97A  2007-12-13  m2CKSsepBCoRYWxiRUsxAg      4   \n",
      "6     zp713qNhx8d9KCJJnrw1xA  2010-02-12  riFQ3vxNpP4rWLk_CSri2A      5   \n",
      "7     hW0Ne_HTHEAgGF1rAdmR-g  2012-07-12  JL7GXJ9u4YMx7Rzs05NfiQ      4   \n",
      "8     wNUea3IXZWD63bbOQaOH-g  2012-08-17  XtnfnYmnJYi71yIuGsXIUA      4   \n",
      "9     nMHhuYan8e3cONo3PornJA  2010-08-11  jJAIXA46pU1swYyRCdfXtQ      5   \n",
      "10    AsSCv0q_BWqIe3mX2JqsOQ  2010-06-16  E11jzpKz9Kw5K7fuARWfRw      5   \n",
      "11    e9nN4XxjdHj4qtKCOPq_vg  2011-10-21  3rPt0LxF7rgmEUrznoH22w      5   \n",
      "12    h53YuCiIDfEFSJCQpk8v1g  2010-01-11  cGnKNX3I9rthE0-TH24-qA      5   \n",
      "13    WGNIYMeXPyoWav1APUq7jA  2011-12-23  FvEEw1_OsrYdvwLV5Hrliw      4   \n",
      "14    yc5AH9H71xJidA_J2mChLA  2010-05-20  pfUwBKYYmUXeiwrhDluQcw      4   \n",
      "15    Vb9FPCEL6Ly24PNxLBaAFw  2011-03-20  HvqmdqWcerVWO3Gs6zbrOw      2   \n",
      "16    supigcPNO9IKo6olaTNV-g  2008-10-12  HXP_0Ul-FCmA4f-k9CqvaQ      3   \n",
      "17    O510Re68mOy9dU490JTKCg  2010-05-03  j4SIzrIy0WrmW4yr4--Khg      5   \n",
      "18    b5cEoKR8iQliq-yT2_O0LQ  2009-03-06  v0cTd3PNpYCkTyGKSpOfGA      3   \n",
      "19    4JzzbSbK9wmlOBJZWYfuCg  2011-11-17  a0lCu-j2Sk_kHQsZi_eNgw      4   \n",
      "20    8FNO4D3eozpIjj0k3q5Zbg  2008-10-08  MuqugTuR5DdIPcZ2IVP3aQ      3   \n",
      "21    tdcjXyFLMKAsvRhURNOkCg  2011-06-28  LmuKVFh03Uz318VKnUWrxA      5   \n",
      "22    eFA9dqXT5EA_TrMgbo03QQ  2011-07-13  CQYc8hgKxV4enApDkx0IhA      5   \n",
      "23    IJ0o6b8bJFAbG6MjGfBebQ  2010-09-05  Dx9sfFU6Zn0GYOckijom-g      1   \n",
      "24    JhupPnWfNlMJivnWB5druA  2011-05-22  cFtQnKzn2VDpBedy_TxlvA      5   \n",
      "25    wzP2yNpV5p04nh0injjymA  2010-05-26  ChBeixVZerfFkeO0McdlbA      4   \n",
      "26    qjmCVYkwP-HDa35jwYucbQ  2013-01-03  kZ4TzrVX6qeF0OvrVTGVEw      5   \n",
      "27    wct7rZKyZqZftzmAU-vhWQ  2008-03-21  B5h25WK28rJjx4KHm4gr7g      4   \n",
      "28    vz2zQQSjy-NnnKLZzjjoxA  2011-03-30  Y_ERKao0J5WsRiCtlKSNSA      4   \n",
      "29    i213sY5rhkfCO8cD-FPr1A  2012-07-12  hre97jjSwon4bn1muHKOJg      4   \n",
      "...                      ...         ...                     ...    ...   \n",
      "9970  R6aazv8FB-6BeanY3ag8kw  2009-09-26  gP17ykqduf3AlewSaRb61w      5   \n",
      "9971  JOZqBKIOB8WEBAWm7v1JFA  2008-07-22  QI9rfeWrZnvK5ojz8cEoRg      5   \n",
      "9972  OllL0G9Kh_k1lx-2vrFDXQ  2012-10-23  U23UfuxN9DpAU0Dslc5KjQ      4   \n",
      "9973  XHr5mXFgobOHoxbPJxmYdg  2009-09-28  udMiWjeG0OGcb4nNddDkBg      5   \n",
      "9974  cdacUBBL2tDbDnB1EfhpQw  2009-12-16  bVU-_x9ijxjEImNluy84OA      2   \n",
      "9975  EWMwV5V9BxNs_U6nNVMeqw  2007-10-20  g4LsVAoafmUDHiS-_yN4tA      5   \n",
      "9976  iDYzGVIF1TDWdjHNgNjCVw  2009-09-11  bKjMcpNj0xSu2UI2EFQn1g      3   \n",
      "9977  iDYzGVIF1TDWdjHNgNjCVw  2012-10-30  qaNZyCUJA6Yp0mvPBCknPQ      5   \n",
      "9978  9Y3aQAVITkEJYe5vLZr13w  2010-04-01  ZoTUU6EJ1OBNr7mhqxHBLw      5   \n",
      "9979  GV1P1x9eRb4iZHCxj5_IjA  2012-12-07  eVUs1C4yaVJNrc7SGTAheg      5   \n",
      "9980  GHYOl_cnERMOhkCK_mGAlA  2011-07-03  Q-y3jSqccdytKxAyo1J0Xg      5   \n",
      "9981  AX8lx9wHNYT45lyd7pxaYw  2008-11-27  IyunTh7jnG7v3EYwfF3hPw      5   \n",
      "9982  KV-yJLmlODfUG1Mkds6kYw  2012-02-25  rIgZgxJPWTacq3mV6DfWfg      4   \n",
      "9983  24V8QQWO6VaVggHdxjQQ_A  2010-06-06  PqiIeFOiVr-tj_FtHGAH2g      3   \n",
      "9984  wepFVY82q_tuDzG6lQjHWw  2012-02-12  spusZYROtBKw_5tv3gYm4Q      1   \n",
      "9985  EMGkbiCMfMTflQux-_JY7Q  2012-10-17  wB-f0xfx7WIyrOsRJMkDOg      4   \n",
      "9986  oCA2OZcd_Jo_ggVmUx3WVw  2012-03-31  ijPZPKKWDqdWOIqYkUsJJw      4   \n",
      "9987  r-a-Cn9hxdEnYTtVTB5bMQ  2012-04-07  j9HwZZoBBmJgOlqDSuJcxg      1   \n",
      "9988  xY1sPHTA2RGVFlh5tZhs9g  2012-06-02  TM8hdYqs5Zi1jO5Yrq6E0g      4   \n",
      "9989  mQUC-ATrFuMQSaDQb93Pug  2011-10-01  ta2P9joJqeFB8BzFp-AzjA      5   \n",
      "9990  R8VwdLyvsp9iybNqRvm94g  2011-10-03  pcEeHdAJPoFNF23es0kKWg      5   \n",
      "9991  WJ5mq4EiWYAA4Vif0xDfdg  2011-12-05  EuHX-39FR7tyyG1ElvN1Jw      5   \n",
      "9992  f96lWMIAUhYIYy9gOktivQ  2009-03-10  YF17z7HWlMj6aezZc-pVEw      5   \n",
      "9993  maB4VHseFUY2TmPtAQnB9Q  2011-06-27  SNnyYHI9rw9TTltVX3TF-A      4   \n",
      "9994  L3BSpFvxcNf3T_teitgt6A  2012-03-19  0nxb1gIGFgk3WbC5zwhKZg      5   \n",
      "9995  VY_tvNUCCXGXQeSvJl757Q  2012-07-28  Ubyfp2RSDYW0g7Mbr8N3iA      3   \n",
      "9996  EKzMHI1tip8rC1-ZAy64yg  2012-01-18  2XyIOQKbVFb6uXQdJ0RzlQ      4   \n",
      "9997  53YGfwmbW73JhFiemNeyzQ  2010-11-16  jyznYkIbpqVmlsZxSDSypA      4   \n",
      "9998  9SKdOoDHcFoxK5ZtsgHJoA  2012-12-02  5UKq9WQE1qQbJ0DJbc-B6Q      2   \n",
      "9999  pF7uRzygyZsltbmVpjIyvw  2010-10-16  vWSmOhg2ID1MNZHaWapGbA      5   \n",
      "\n",
      "                                                   text    type  \\\n",
      "0     My wife took me here on my birthday for breakf...  review   \n",
      "1     I have no idea why some people give bad review...  review   \n",
      "2     love the gyro plate. Rice is so good and I als...  review   \n",
      "3     Rosie, Dakota, and I LOVE Chaparral Dog Park!!...  review   \n",
      "4     General Manager Scott Petello is a good egg!!!...  review   \n",
      "5     Quiessence is, simply put, beautiful.  Full wi...  review   \n",
      "6     Drop what you're doing and drive here. After I...  review   \n",
      "7     Luckily, I didn't have to travel far to make m...  review   \n",
      "8     Definitely come for Happy hour! Prices are ama...  review   \n",
      "9     Nobuo shows his unique talents with everything...  review   \n",
      "10    The oldish man who owns the store is as sweet ...  review   \n",
      "11    Wonderful Vietnamese sandwich shoppe. Their ba...  review   \n",
      "12    They have a limited time thing going on right ...  review   \n",
      "13    Good tattoo shop. Clean space, multiple artist...  review   \n",
      "14    I'm 2 weeks new to Phoenix. I looked up Irish ...  review   \n",
      "15    Was it worth the 21$ for a salad and small piz...  review   \n",
      "16    We went here on a Saturday afternoon and this ...  review   \n",
      "17    okay this is the best place EVER! i grew up sh...  review   \n",
      "18    I met a friend for lunch yesterday. \\n\\nLoved ...  review   \n",
      "19    They've gotten better and better for me in the...  review   \n",
      "20    DVAP....\\n\\nYou have to go at least once in yo...  review   \n",
      "21    This place shouldn't even be reviewed - becaus...  review   \n",
      "22    first time my friend and I went there... it wa...  review   \n",
      "23    U can go there n check the car out. If u wanna...  review   \n",
      "24    I love this place! I have been coming here for...  review   \n",
      "25    This place is great.  A nice little ole' fashi...  review   \n",
      "26    I love love LOVE this place. My boss (who is i...  review   \n",
      "27    Not that my review will mean much given the mo...  review   \n",
      "28    Came here for breakfast yesterday, it had been...  review   \n",
      "29    Always reliably good.  Great beer selection as...  review   \n",
      "...                                                 ...     ...   \n",
      "9970  This place is super cute lunch joint.  I had t...  review   \n",
      "9971  The staff is great, the food is great, even th...  review   \n",
      "9972  Yay, even though I miss living in Coronado I a...  review   \n",
      "9973  Wow!  Went on a Sunday around 11am - busy but ...  review   \n",
      "9974  If Cowboy Ciao is the best restaurant in Scott...  review   \n",
      "9975  When I lived in Phoenix, I was a regular at Fe...  review   \n",
      "9976  I was looking for chile rellenos and this plac...  review   \n",
      "9977  Why did I wait so long to try this neighborhoo...  review   \n",
      "9978  This is the place for a fabulos breakfast!! I ...  review   \n",
      "9979  Highly recommend. This is my second time here ...  review   \n",
      "9980  5 stars for the great $5 happy hour specials. ...  review   \n",
      "9981  We brought the entire family to Giuseppe's las...  review   \n",
      "9982  Best corned beef sandwich I've had anywhere at...  review   \n",
      "9983  3.5 stars. \\n\\nWe decided to check this place ...  review   \n",
      "9984  Went last night to Whore Foods to get basics t...  review   \n",
      "9985  Awesome food! Little pricey but delicious. Lov...  review   \n",
      "9986  I came here in December and look forward to my...  review   \n",
      "9987  The food is delicious.  The service:  discrimi...  review   \n",
      "9988  For our first time we had a great time! Our se...  review   \n",
      "9989  Great food and service! Country food at its best!  review   \n",
      "9990  Yes I do rock the hipster joints.  I dig this ...  review   \n",
      "9991  Only 4 stars? \\n\\n(A few notes: The folks that...  review   \n",
      "9992  I'm not normally one to jump at reviewing a ch...  review   \n",
      "9993  Judging by some of the reviews, maybe I went o...  review   \n",
      "9994  Let's see...what is there NOT to like about Su...  review   \n",
      "9995  First visit...Had lunch here today - used my G...  review   \n",
      "9996  Should be called house of deliciousness!\\n\\nI ...  review   \n",
      "9997  I recently visited Olive and Ivy for business ...  review   \n",
      "9998  My nephew just moved to Scottsdale recently so...  review   \n",
      "9999  4-5 locations.. all 4.5 star average.. I think...  review   \n",
      "\n",
      "                     user_id  cool  useful  funny  \n",
      "0     rLtl8ZkDX5vH5nAx9C3q5Q     2       5      0  \n",
      "1     0a2KyEL0d3Yb1V6aivbIuQ     0       0      0  \n",
      "2     0hT2KtfLiobPvh6cDC8JQg     0       1      0  \n",
      "3     uZetl9T0NcROGOyFfughhg     1       2      0  \n",
      "4     vYmM4KTsC8ZfQBg-j5MWkw     0       0      0  \n",
      "5     sqYN3lNgvPbPCTRsMFu27g     4       3      1  \n",
      "6     wFweIWhv2fREZV_dYkz_1g     7       7      4  \n",
      "7     1ieuYcKS7zeAv_U15AB13A     0       1      0  \n",
      "8     Vh_DlizgGhSqQh4qfZ2h6A     0       0      0  \n",
      "9     sUNkXg8-KFtCMQDV6zRzQg     0       1      0  \n",
      "10    -OMlS6yWkYjVldNhC31wYg     1       3      1  \n",
      "11    C1rHp3dmepNea7XiouwB6Q     1       1      0  \n",
      "12    UPtysDF6cUDUxq2KY-6Dcg     1       2      0  \n",
      "13    Xm8HXE1JHqscXe5BKf0GFQ     1       2      0  \n",
      "14    JOG-4G4e8ae3lx_szHtR8g     1       1      0  \n",
      "15    ylWOj2y7TV2e3yYeWhu2QA     0       2      0  \n",
      "16    SBbftLzfYYKItOMFwOTIJg     3       4      2  \n",
      "17    u1KWcbPMvXFEEYkZZ0Yktg     0       0      0  \n",
      "18    UsULgP4bKA8RMzs8dQzcsA     5       6      4  \n",
      "19    nDBly08j5URmrHQ2JCbyiw     1       1      1  \n",
      "20    C6IOtaaYdLIT5fWd7ZYIuA     2       4      1  \n",
      "21    YN3ZLOdg8kpnfbVcIhuEZA     1       1      2  \n",
      "22    6lg55RIP23VhjYEBXJ8Njw     0       0      0  \n",
      "23    zRlQEDYd_HKp0VS3hnAffA     0       1      1  \n",
      "24    13xj6FSvYO0rZVRv5XZp4w     0       1      0  \n",
      "25    rLtl8ZkDX5vH5nAx9C3q5Q     0       0      0  \n",
      "26    fpItLlgimq0nRltWOkuJJw     0       0      0  \n",
      "27    RRTraCQw77EU4yZh0BBTag     2       4      1  \n",
      "28    EP3cGJvYiuOwumerwADplg     1       1      1  \n",
      "29    kpbhy1zPewGDmdNfNqQp-g     0       1      0  \n",
      "...                      ...   ...     ...    ...  \n",
      "9970  mtoKqaQjGPWEc5YZbrYV9w     0       0      0  \n",
      "9971  uBAMd01ZtGXaHrRD6THNzg     1       2      1  \n",
      "9972  Gh1EXuS42DY3rV_MzFpJpg     0       0      0  \n",
      "9973  yRYNx24kUDRRBfJu1Rcojg     0       0      0  \n",
      "9974  V9Uqt00HXwXT6mzsVCjMAw     0       0      0  \n",
      "9975  TLj3XaclA7V4ldJ5yNP-9Q     1       1      0  \n",
      "9976  2tUCLMHQKz4kA1VlRB_w0Q     0       0      0  \n",
      "9977  Id-8-NMEKxeXBR44eUdDeA     3       6      3  \n",
      "9978  vasHsAZEgLZGJDTlIweUYQ     0       1      0  \n",
      "9979  bJFdmJJxfXgCYA5DMmyeqQ     2       2      1  \n",
      "9980  xZvRLPJ1ixhFVomkXSfXAw     6       6      4  \n",
      "9981  fczQCSmaWF78toLEmb0Zsw    10       9      5  \n",
      "9982  J-oVr0th2Y7ltPPOwy0Z8Q     0       0      0  \n",
      "9983  LaEj3VpQh7bgpAZLzSRRrw     1       4      1  \n",
      "9984  W7zmm1uzlyUkEqpSG7PlBw     0       1      2  \n",
      "9985  9MJAacmjxtctbI3xncsK5Q     0       0      0  \n",
      "9986  yzwPJdn6yd2ccZqfy4LhUA     0       0      0  \n",
      "9987  toPtsUtYoRB-5-ThrOy2Fg     0       0      0  \n",
      "9988  GvaNZY4poCcd3H4WxHjrLQ     0       2      0  \n",
      "9989  fKaO8fR1IAcfvZb6cBrs2w     0       1      0  \n",
      "9990  b92Y3tyWTQQZ5FLifex62Q     1       1      1  \n",
      "9991  hTau-iNZFwoNsPCaiIUTEA     1       1      0  \n",
      "9992  W_QXYA7A0IhMrvbckz7eVg     2       3      2  \n",
      "9993  T46gxPbJMWmlLyr7GxQLyQ     1       1      0  \n",
      "9994  OzOZv-Knlw3oz9K5Kh5S6A     1       2      1  \n",
      "9995  _eqQoPtQ3e3UxLE4faT6ow     1       2      0  \n",
      "9996  ROru4uk5SaYc3rg8IU7SQw     0       0      0  \n",
      "9997  gGbN1aKQHMgfQZkqlsuwzg     0       0      0  \n",
      "9998  0lyVoNazXa20WzUyZPLaQQ     0       0      0  \n",
      "9999  KSBFytcdjPKZgXKQnYQdkA     0       0      0  \n",
      "\n",
      "[10000 rows x 10 columns]>\n"
     ]
    }
   ],
   "source": [
    "print(df.describe)"
   ]
  },
  {
   "cell_type": "code",
   "execution_count": 6,
   "metadata": {},
   "outputs": [
    {
     "data": {
      "text/html": [
       "<div>\n",
       "<style scoped>\n",
       "    .dataframe tbody tr th:only-of-type {\n",
       "        vertical-align: middle;\n",
       "    }\n",
       "\n",
       "    .dataframe tbody tr th {\n",
       "        vertical-align: top;\n",
       "    }\n",
       "\n",
       "    .dataframe thead th {\n",
       "        text-align: right;\n",
       "    }\n",
       "</style>\n",
       "<table border=\"1\" class=\"dataframe\">\n",
       "  <thead>\n",
       "    <tr style=\"text-align: right;\">\n",
       "      <th></th>\n",
       "      <th>business_id</th>\n",
       "      <th>date</th>\n",
       "      <th>review_id</th>\n",
       "      <th>stars</th>\n",
       "      <th>text</th>\n",
       "      <th>type</th>\n",
       "      <th>user_id</th>\n",
       "      <th>cool</th>\n",
       "      <th>useful</th>\n",
       "      <th>funny</th>\n",
       "      <th>text_len</th>\n",
       "    </tr>\n",
       "  </thead>\n",
       "  <tbody>\n",
       "    <tr>\n",
       "      <th>0</th>\n",
       "      <td>9yKzy9PApeiPPOUJEtnvkg</td>\n",
       "      <td>2011-01-26</td>\n",
       "      <td>fWKvX83p0-ka4JS3dc6E5A</td>\n",
       "      <td>5</td>\n",
       "      <td>My wife took me here on my birthday for breakf...</td>\n",
       "      <td>review</td>\n",
       "      <td>rLtl8ZkDX5vH5nAx9C3q5Q</td>\n",
       "      <td>2</td>\n",
       "      <td>5</td>\n",
       "      <td>0</td>\n",
       "      <td>889</td>\n",
       "    </tr>\n",
       "    <tr>\n",
       "      <th>1</th>\n",
       "      <td>ZRJwVLyzEJq1VAihDhYiow</td>\n",
       "      <td>2011-07-27</td>\n",
       "      <td>IjZ33sJrzXqU-0X6U8NwyA</td>\n",
       "      <td>5</td>\n",
       "      <td>I have no idea why some people give bad review...</td>\n",
       "      <td>review</td>\n",
       "      <td>0a2KyEL0d3Yb1V6aivbIuQ</td>\n",
       "      <td>0</td>\n",
       "      <td>0</td>\n",
       "      <td>0</td>\n",
       "      <td>1345</td>\n",
       "    </tr>\n",
       "    <tr>\n",
       "      <th>2</th>\n",
       "      <td>6oRAC4uyJCsJl1X0WZpVSA</td>\n",
       "      <td>2012-06-14</td>\n",
       "      <td>IESLBzqUCLdSzSqm0eCSxQ</td>\n",
       "      <td>4</td>\n",
       "      <td>love the gyro plate. Rice is so good and I als...</td>\n",
       "      <td>review</td>\n",
       "      <td>0hT2KtfLiobPvh6cDC8JQg</td>\n",
       "      <td>0</td>\n",
       "      <td>1</td>\n",
       "      <td>0</td>\n",
       "      <td>76</td>\n",
       "    </tr>\n",
       "    <tr>\n",
       "      <th>3</th>\n",
       "      <td>_1QQZuf4zZOyFCvXc0o6Vg</td>\n",
       "      <td>2010-05-27</td>\n",
       "      <td>G-WvGaISbqqaMHlNnByodA</td>\n",
       "      <td>5</td>\n",
       "      <td>Rosie, Dakota, and I LOVE Chaparral Dog Park!!...</td>\n",
       "      <td>review</td>\n",
       "      <td>uZetl9T0NcROGOyFfughhg</td>\n",
       "      <td>1</td>\n",
       "      <td>2</td>\n",
       "      <td>0</td>\n",
       "      <td>419</td>\n",
       "    </tr>\n",
       "    <tr>\n",
       "      <th>4</th>\n",
       "      <td>6ozycU1RpktNG2-1BroVtw</td>\n",
       "      <td>2012-01-05</td>\n",
       "      <td>1uJFq2r5QfJG_6ExMRCaGw</td>\n",
       "      <td>5</td>\n",
       "      <td>General Manager Scott Petello is a good egg!!!...</td>\n",
       "      <td>review</td>\n",
       "      <td>vYmM4KTsC8ZfQBg-j5MWkw</td>\n",
       "      <td>0</td>\n",
       "      <td>0</td>\n",
       "      <td>0</td>\n",
       "      <td>469</td>\n",
       "    </tr>\n",
       "  </tbody>\n",
       "</table>\n",
       "</div>"
      ],
      "text/plain": [
       "              business_id        date               review_id  stars  \\\n",
       "0  9yKzy9PApeiPPOUJEtnvkg  2011-01-26  fWKvX83p0-ka4JS3dc6E5A      5   \n",
       "1  ZRJwVLyzEJq1VAihDhYiow  2011-07-27  IjZ33sJrzXqU-0X6U8NwyA      5   \n",
       "2  6oRAC4uyJCsJl1X0WZpVSA  2012-06-14  IESLBzqUCLdSzSqm0eCSxQ      4   \n",
       "3  _1QQZuf4zZOyFCvXc0o6Vg  2010-05-27  G-WvGaISbqqaMHlNnByodA      5   \n",
       "4  6ozycU1RpktNG2-1BroVtw  2012-01-05  1uJFq2r5QfJG_6ExMRCaGw      5   \n",
       "\n",
       "                                                text    type  \\\n",
       "0  My wife took me here on my birthday for breakf...  review   \n",
       "1  I have no idea why some people give bad review...  review   \n",
       "2  love the gyro plate. Rice is so good and I als...  review   \n",
       "3  Rosie, Dakota, and I LOVE Chaparral Dog Park!!...  review   \n",
       "4  General Manager Scott Petello is a good egg!!!...  review   \n",
       "\n",
       "                  user_id  cool  useful  funny  text_len  \n",
       "0  rLtl8ZkDX5vH5nAx9C3q5Q     2       5      0       889  \n",
       "1  0a2KyEL0d3Yb1V6aivbIuQ     0       0      0      1345  \n",
       "2  0hT2KtfLiobPvh6cDC8JQg     0       1      0        76  \n",
       "3  uZetl9T0NcROGOyFfughhg     1       2      0       419  \n",
       "4  vYmM4KTsC8ZfQBg-j5MWkw     0       0      0       469  "
      ]
     },
     "execution_count": 6,
     "metadata": {},
     "output_type": "execute_result"
    }
   ],
   "source": [
    "#creating a new column for length of the text\n",
    "df['text_len'] = df['text'].apply(len)\n",
    "df.head()"
   ]
  },
  {
   "cell_type": "markdown",
   "metadata": {},
   "source": [
    "### VIsualising the data"
   ]
  },
  {
   "cell_type": "code",
   "execution_count": 7,
   "metadata": {},
   "outputs": [
    {
     "data": {
      "text/plain": [
       "<seaborn.axisgrid.FacetGrid at 0x2c6ae525ef0>"
      ]
     },
     "execution_count": 7,
     "metadata": {},
     "output_type": "execute_result"
    },
    {
     "data": {
      "image/png": "[encoded data removed]",
      "text/plain": [
       "<Figure size 1080x216 with 5 Axes>"
      ]
     },
     "metadata": {},
     "output_type": "display_data"
    }
   ],
   "source": [
    "graph1 = sns.FacetGrid(data=df, col='stars')\n",
    "graph1.map(plt.hist, 'text_len', color = 'green', bins = 50)"
   ]
  },
  {
   "cell_type": "code",
   "execution_count": 8,
   "metadata": {},
   "outputs": [
    {
     "data": {
      "text/plain": [
       "<matplotlib.axes._subplots.AxesSubplot at 0x2c6adfb8278>"
      ]
     },
     "execution_count": 8,
     "metadata": {},
     "output_type": "execute_result"
    },
    {
     "data": {
      "image/png": "[encoded data removed]",
      "text/plain": [
       "<Figure size 432x288 with 2 Axes>"
      ]
     },
     "metadata": {},
     "output_type": "display_data"
    }
   ],
   "source": [
    "#Grouping the data using start rating and finding if any correlation \n",
    "stars = df.groupby('stars').mean()\n",
    "stars.corr()\n",
    "sns.heatmap(data = stars.corr(), annot = True)\n",
    "\n",
    "#### This shows that funny is strongly correlated to useful and useful is strongly correlated to text_len\n",
    "#### Thus, we can say that longer reviews are more funny and useful"
   ]
  },
  {
   "cell_type": "code",
   "execution_count": 9,
   "metadata": {},
   "outputs": [
    {
     "name": "stdout",
     "output_type": "stream",
     "text": [
      "0    My wife took me here on my birthday for breakf...\n",
      "1    I have no idea why some people give bad review...\n",
      "3    Rosie, Dakota, and I LOVE Chaparral Dog Park!!...\n",
      "4    General Manager Scott Petello is a good egg!!!...\n",
      "6    Drop what you're doing and drive here. After I...\n",
      "Name: text, dtype: object\n",
      "0    5\n",
      "1    5\n",
      "3    5\n",
      "4    5\n",
      "6    5\n",
      "Name: stars, dtype: int64\n"
     ]
    }
   ],
   "source": [
    "#Preparing for classification\n",
    "df_class = df[(df['stars']==1) | (df['stars']==5)]\n",
    "df_class.shape\n",
    "\n",
    "#putting them in seperate variable\n",
    "x = df_class['text']\n",
    "y = df_class['stars']\n",
    "print(x.head())\n",
    "print(y.head())"
   ]
  },
  {
   "cell_type": "code",
   "execution_count": 10,
   "metadata": {},
   "outputs": [],
   "source": [
    "#Data cleaning by removing stop words and puntuation\n",
    "import string\n",
    "def text_process(text):\n",
    "    nopunc = [char for char in text if char not in string.punctuation]\n",
    "    nopunc = ''.join(nopunc)\n",
    "    return [word for word in nopunc.split() if word.lower() not in stopwords.words('english')]"
   ]
  },
  {
   "cell_type": "markdown",
   "metadata": {},
   "source": [
    "### Performing Vectorization"
   ]
  },
  {
   "cell_type": "code",
   "execution_count": 11,
   "metadata": {},
   "outputs": [
    {
     "name": "stdout",
     "output_type": "stream",
     "text": [
      "26435\n"
     ]
    }
   ],
   "source": [
    "#Import countVectorizer and define it with a variable. Along with that we will fit it to our review text stored in x\n",
    "from sklearn.feature_extraction.text import CountVectorizer\n",
    "vectorizer = CountVectorizer(analyzer = text_process).fit(x)\n",
    "print(len(vectorizer.vocabulary_))"
   ]
  },
  {
   "cell_type": "code",
   "execution_count": 13,
   "metadata": {},
   "outputs": [
    {
     "name": "stdout",
     "output_type": "stream",
     "text": [
      "My wife took me here on my birthday for breakfast and it was excellent.  The weather was perfect which made sitting outside overlooking their grounds an absolute pleasure.  Our waitress was excellent and our food arrived quickly on the semi-busy Saturday morning.  It looked like the place fills up pretty quickly so the earlier you get here the better.\n",
      "\n",
      "Do yourself a favor and get their Bloody Mary.  It was phenomenal and simply the best I've ever had.  I'm pretty sure they only use ingredients from their garden and blend them fresh when you order it.  It was amazing.\n",
      "\n",
      "While EVERYTHING on the menu looks excellent, I had the white truffle scrambled eggs vegetable skillet and it was tasty and delicious.  It came with 2 pieces of their griddled bread with was amazing and it absolutely made the meal complete.  It was the best \"toast\" I've ever had.\n",
      "\n",
      "Anyway, I can't wait to go back!\n",
      "  (0, 244)\t1\n",
      "  (0, 1000)\t1\n",
      "  (0, 1505)\t1\n",
      "  (0, 2921)\t1\n",
      "  (0, 4285)\t1\n",
      "  (0, 4388)\t2\n",
      "  (0, 5251)\t1\n",
      "  (0, 7120)\t1\n",
      "  (0, 8901)\t1\n",
      "  (0, 8902)\t1\n",
      "  (0, 9310)\t2\n",
      "  (0, 9608)\t1\n",
      "  (0, 9873)\t1\n",
      "  (0, 10228)\t2\n",
      "  (0, 10239)\t1\n",
      "  (0, 10305)\t1\n",
      "  (0, 10378)\t1\n",
      "  (0, 10632)\t1\n",
      "  (0, 10643)\t1\n",
      "  (0, 11008)\t1\n",
      "  (0, 11056)\t1\n",
      "  (0, 11968)\t1\n",
      "  (0, 12943)\t1\n",
      "  (0, 13700)\t1\n",
      "  (0, 13806)\t1\n",
      "  :\t:\n",
      "  (0, 19648)\t1\n",
      "  (0, 20061)\t1\n",
      "  (0, 20147)\t1\n",
      "  (0, 20213)\t1\n",
      "  (0, 20298)\t1\n",
      "  (0, 20381)\t1\n",
      "  (0, 20707)\t2\n",
      "  (0, 21075)\t2\n",
      "  (0, 22250)\t1\n",
      "  (0, 22391)\t1\n",
      "  (0, 22760)\t1\n",
      "  (0, 22805)\t1\n",
      "  (0, 22836)\t1\n",
      "  (0, 23966)\t1\n",
      "  (0, 24255)\t1\n",
      "  (0, 24678)\t1\n",
      "  (0, 24748)\t1\n",
      "  (0, 25014)\t1\n",
      "  (0, 25431)\t1\n",
      "  (0, 25524)\t1\n",
      "  (0, 25722)\t1\n",
      "  (0, 25735)\t1\n",
      "  (0, 25879)\t1\n",
      "  (0, 26021)\t1\n",
      "  (0, 26058)\t1\n",
      "Following Words back\n",
      "chicken\n",
      "sandwich\n"
     ]
    }
   ],
   "source": [
    "review_0 = x[0]\n",
    "print(review_0)\n",
    "vocab_0 = vectorizer.transform([review_0])\n",
    "print(vocab_0)\n",
    "\n",
    "print(\"Following Words back\")\n",
    "print(vectorizer.get_feature_names()[11443])\n",
    "print(vectorizer.get_feature_names()[22077])"
   ]
  },
  {
   "cell_type": "code",
   "execution_count": 19,
   "metadata": {},
   "outputs": [
    {
     "name": "stdout",
     "output_type": "stream",
     "text": [
      "Shape of Sparse Matrix:  (4086, 26435)\n",
      "Amount of Non-Zero occurrences:  222391\n"
     ]
    }
   ],
   "source": [
    "#Now applying vectorization to the ful review set which would check the shape of new x\n",
    "x = vectorizer.transform(x)\n",
    "print('Shape of Sparse Matrix: ', x.shape)\n",
    "print('Amount of Non-Zero occurrences: ', x.nnz)"
   ]
  },
  {
   "cell_type": "code",
   "execution_count": 22,
   "metadata": {},
   "outputs": [
    {
     "name": "stdout",
     "output_type": "stream",
     "text": [
      "Density =  0.2058920276658241\n"
     ]
    }
   ],
   "source": [
    "# Percentage of non-zero values\n",
    "density = (100.0 * x.nnz / (x.shape[0] * x.shape[1]))\n",
    "print(\"Density = \",density)"
   ]
  },
  {
   "cell_type": "markdown",
   "metadata": {},
   "source": [
    "### Splitting the data into train and test"
   ]
  },
  {
   "cell_type": "code",
   "execution_count": 24,
   "metadata": {},
   "outputs": [],
   "source": [
    "#Splitting the dataset into training data and test data in the proportion of 80:20\n",
    "from sklearn.model_selection import train_test_split\n",
    "x_train,x_test,y_train,y_test = train_test_split(x,y,test_size=0.2,random_state=101)"
   ]
  },
  {
   "cell_type": "markdown",
   "metadata": {},
   "source": [
    "## Applying the classification method\n",
    "### Multinomial Naive Bayes"
   ]
  },
  {
   "cell_type": "code",
   "execution_count": 42,
   "metadata": {},
   "outputs": [
    {
     "name": "stdout",
     "output_type": "stream",
     "text": [
      "[[113  37]\n",
      " [ 21 647]]\n",
      "\n",
      "\n",
      "             precision    recall  f1-score   support\n",
      "\n",
      "          1       0.84      0.75      0.80       150\n",
      "          5       0.95      0.97      0.96       668\n",
      "\n",
      "avg / total       0.93      0.93      0.93       818\n",
      "\n"
     ]
    },
    {
     "data": {
      "text/plain": [
       "1"
      ]
     },
     "execution_count": 42,
     "metadata": {},
     "output_type": "execute_result"
    }
   ],
   "source": [
    "#Building the model\n",
    "from sklearn.naive_bayes import MultinomialNB\n",
    "nb = MultinomialNB()\n",
    "nb.fit(x_train, y_train)\n",
    "\n",
    "#Testing our model\n",
    "nb_predict = nb.predict(x_test)\n",
    "\n",
    "#Creating the confusion matrix\n",
    "from sklearn.metrics import confusion_matrix, classification_report\n",
    "print(confusion_matrix(y_test, nb_predict))\n",
    "\n",
    "print('\\n')\n",
    "\n",
    "#Creating the classification report\n",
    "print(classification_report(y_test, nb_predict))  ### The model achieved 93% accuracy. \n",
    "                                                  ### However, since we know that there are some bias values, \n",
    "                                                  ### so let's just test it on a single review.\n",
    "\n",
    "#positive single review\n",
    "pos_review = df_class['text'][59]\n",
    "pos_review\n",
    "\n",
    "pos_review_t = vectorizer.transform([pos_review])\n",
    "nb.predict(pos_review_t)[0]                       ### 5 star rating which is good as expected \n",
    "\n",
    "\n",
    "#Negative single review\n",
    "neg_review = df_class['text'][281]\n",
    "neg_review\n",
    "\n",
    "neg_review_t = vectorizer.transform([neg_review])\n",
    "nb.predict(neg_review_t)[0]                       ### 1 star rating which is fine as expected\n"
   ]
  },
  {
   "cell_type": "markdown",
   "metadata": {},
   "source": [
    "### K-NN classifier"
   ]
  },
  {
   "cell_type": "code",
   "execution_count": 48,
   "metadata": {},
   "outputs": [
    {
     "name": "stdout",
     "output_type": "stream",
     "text": [
      "[[ 12 138]\n",
      " [ 10 658]]\n",
      "\n",
      "\n",
      "             precision    recall  f1-score   support\n",
      "\n",
      "          1       0.55      0.08      0.14       150\n",
      "          5       0.83      0.99      0.90       668\n",
      "\n",
      "avg / total       0.78      0.82      0.76       818\n",
      "\n"
     ]
    }
   ],
   "source": [
    "#Building the model\n",
    "from sklearn.neighbors import KNeighborsClassifier\n",
    "knn = KNeighborsClassifier()\n",
    "knn.fit(x_train, y_train)\n",
    "\n",
    "#Testing our model on x_test\n",
    "knn_predict = knn.predict(x_test)\n",
    "\n",
    "#Creating the confusion matrix\n",
    "from sklearn.metrics import confusion_matrix, classification_report\n",
    "print(confusion_matrix(y_test, knn_predict))\n",
    "\n",
    "print('\\n')\n",
    "\n",
    "#Creating the classification report\n",
    "print(classification_report(y_test, knn_predict))    ### The model achieved 78% accuracy"
   ]
  },
  {
   "cell_type": "markdown",
   "metadata": {},
   "source": [
    "### Support Vector Machine"
   ]
  },
  {
   "cell_type": "code",
   "execution_count": 54,
   "metadata": {},
   "outputs": [
    {
     "name": "stdout",
     "output_type": "stream",
     "text": [
      "[[  0 150]\n",
      " [  0 668]]\n",
      "\n",
      "\n",
      "             precision    recall  f1-score   support\n",
      "\n",
      "          1       0.00      0.00      0.00       150\n",
      "          5       0.82      1.00      0.90       668\n",
      "\n",
      "avg / total       0.67      0.82      0.73       818\n",
      "\n"
     ]
    },
    {
     "name": "stderr",
     "output_type": "stream",
     "text": [
      "C:\\Users\\dell\\Anaconda3\\lib\\site-packages\\sklearn\\metrics\\classification.py:1135: UndefinedMetricWarning: Precision and F-score are ill-defined and being set to 0.0 in labels with no predicted samples.\n",
      "  'precision', 'predicted', average, warn_for)\n"
     ]
    }
   ],
   "source": [
    "#Building the model\n",
    "from sklearn.svm import SVC\n",
    "svm = SVC()\n",
    "svm.fit(x_train, y_train)\n",
    "\n",
    "#Testing our model on x_test\n",
    "svm_predict = svm.predict(x_test)\n",
    "\n",
    "#Creating the confusion matrix\n",
    "from sklearn.metrics import confusion_matrix, classification_report\n",
    "print(confusion_matrix(y_test, svm_predict))\n",
    "\n",
    "print('\\n')\n",
    "\n",
    "#Creating the classification report\n",
    "print(classification_report(y_test, svm_predict))    ### The model achieved 67% accuracy"
   ]
  },
  {
   "cell_type": "markdown",
   "metadata": {},
   "source": [
    "### Random Forest Classifier"
   ]
  },
  {
   "cell_type": "code",
   "execution_count": 60,
   "metadata": {},
   "outputs": [
    {
     "name": "stdout",
     "output_type": "stream",
     "text": [
      "[[ 68  82]\n",
      " [ 21 647]]\n",
      "\n",
      "\n",
      "             precision    recall  f1-score   support\n",
      "\n",
      "          1       0.76      0.45      0.57       150\n",
      "          5       0.89      0.97      0.93       668\n",
      "\n",
      "avg / total       0.86      0.87      0.86       818\n",
      "\n"
     ]
    }
   ],
   "source": [
    "#Building the model\n",
    "from sklearn.ensemble import RandomForestClassifier\n",
    "rf = RandomForestClassifier()\n",
    "rf.fit(x_train, y_train)\n",
    "\n",
    "#Testing our model on x_test\n",
    "rf_predict = rf.predict(x_test)\n",
    "\n",
    "#Creating the confusion matrix\n",
    "from sklearn.metrics import confusion_matrix, classification_report\n",
    "print(confusion_matrix(y_test, rf_predict))\n",
    "\n",
    "print('\\n')\n",
    "\n",
    "#Creating the classification report\n",
    "print(classification_report(y_test, rf_predict))    ### The model achieved 86% accuracy"
   ]
  },
  {
   "cell_type": "markdown",
   "metadata": {},
   "source": [
    "## Conclusion \n",
    "\n",
    "#### After applying four machine learning algorithm to our model, we found different accuracy produced through eah of them: <br>\n",
    "\n",
    "1. MultiNomial Naive Bayes produced 93% accuracy\n",
    "2. KNN produced 78% accuracy\n",
    "3. SVM produced 67% accuracy\n",
    "4. Random Forest produced 86% accuracy\n",
    "\n",
    "#### By the above analysis, we can say that Naive Bayes and Random forest provides the best model.\n",
    "#### Among these two algorithms, since Naive Bayes gives the most accurate result, we have tested it on some single positive and single negative reviews which confirms that the model build is almost correct. But, there are some values which does not qualify the model should be because of bias data towards the positive reviews.\n"
   ]
  }
 ],
 "metadata": {
  "kernelspec": {
   "display_name": "Python 3",
   "language": "python",
   "name": "python3"
  },
  "language_info": {
   "codemirror_mode": {
    "name": "ipython",
    "version": 3
   },
   "file_extension": ".py",
   "mimetype": "text/x-python",
   "name": "python",
   "nbconvert_exporter": "python",
   "pygments_lexer": "ipython3",
   "version": "3.6.5"
  }
 },
 "nbformat": 4,
 "nbformat_minor": 2
}
